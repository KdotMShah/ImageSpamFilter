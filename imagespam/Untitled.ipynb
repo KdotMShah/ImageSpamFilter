{
  "cells": [
    {
      "cell_type": "code",
      "execution_count": null,
      "metadata": {
        "id": "cpuLaMx1eykz"
      },
      "outputs": [],
      "source": [
        "import tensorflow as tf\n",
        "from tensorflow.keras.preprocessing.image import ImageDataGenerator\n",
        "from tensorflow.keras.applications import VGG16 ,VGG19\n",
        "from tensorflow.keras.layers import Dense, GlobalAveragePooling2D\n",
        "from tensorflow.keras.models import Model\n",
        "from tensorflow.keras.optimizers import Adam"
      ]
    },
    {
      "cell_type": "code",
      "execution_count": null,
      "metadata": {
        "id": "iqLOlOgKf3C1"
      },
      "outputs": [],
      "source": [
        "train_dir=\"/content/drive/MyDrive/spam image datset/SPAM IMAGE dataset2/train\"\n",
        "validation_dir=\"/content/drive/MyDrive/spam image datset/SPAM IMAGE dataset2/val\""
      ]
    },
    {
      "cell_type": "code",
      "execution_count": null,
      "metadata": {
        "id": "zk0paTdTgBW8"
      },
      "outputs": [],
      "source": [
        "img_size = (224, 224)\n",
        "batch_size = 32"
      ]
    },
    {
      "cell_type": "code",
      "execution_count": null,
      "metadata": {
        "id": "TdHeT8rbgDd8"
      },
      "outputs": [],
      "source": [
        "train_datagen = ImageDataGenerator(\n",
        "    rescale=1./255,\n",
        "    shear_range=0.2,\n",
        "    zoom_range=0.2,\n",
        "    horizontal_flip=True\n",
        ")"
      ]
    },
    {
      "cell_type": "code",
      "execution_count": null,
      "metadata": {
        "colab": {
          "base_uri": "https://localhost:8080/"
        },
        "id": "u_tCTOVigG9V",
        "outputId": "d078b11f-3083-478c-994b-878b1fd11385"
      },
      "outputs": [
        {
          "name": "stdout",
          "output_type": "stream",
          "text": [
            "Found 1235 images belonging to 2 classes.\n"
          ]
        }
      ],
      "source": [
        "train_generator = train_datagen.flow_from_directory(\n",
        "    train_dir,\n",
        "    target_size=img_size,\n",
        "    batch_size=batch_size,\n",
        "    class_mode='binary'\n",
        ")"
      ]
    },
    {
      "cell_type": "code",
      "execution_count": null,
      "metadata": {
        "colab": {
          "base_uri": "https://localhost:8080/"
        },
        "id": "w6clUfW9gJd7",
        "outputId": "1d7d04d7-cc30-42f2-8836-27bfe19ac3bf"
      },
      "outputs": [
        {
          "name": "stdout",
          "output_type": "stream",
          "text": [
            "Found 359 images belonging to 2 classes.\n"
          ]
        }
      ],
      "source": [
        "validation_datagen = ImageDataGenerator(rescale=1./255)\n",
        "\n",
        "validation_generator = validation_datagen.flow_from_directory(\n",
        "    validation_dir,\n",
        "    target_size=img_size,\n",
        "    batch_size=batch_size,\n",
        "    class_mode='binary'\n",
        ")"
      ]
    },
    {
      "cell_type": "code",
      "execution_count": null,
      "metadata": {
        "colab": {
          "base_uri": "https://localhost:8080/"
        },
        "id": "G2SMBCTegM8N",
        "outputId": "56db01ed-59c9-4201-8bf1-9fecf044b895"
      },
      "outputs": [
        {
          "name": "stdout",
          "output_type": "stream",
          "text": [
            "Downloading data from https://storage.googleapis.com/tensorflow/keras-applications/vgg16/vgg16_weights_tf_dim_ordering_tf_kernels_notop.h5\n",
            "58889256/58889256 [==============================] - 0s 0us/step\n"
          ]
        }
      ],
      "source": [
        "# Load pre-trained VGG16 model without the top classification layer\n",
        "base_model = VGG16(weights='imagenet', include_top=False, input_shape=(224, 224, 3))"
      ]
    },
    {
      "cell_type": "code",
      "execution_count": null,
      "metadata": {
        "id": "Qk74Fo3LgPbZ"
      },
      "outputs": [],
      "source": [
        "# Add new classification layers\n",
        "x = base_model.output\n",
        "x = GlobalAveragePooling2D()(x)\n",
        "x = Dense(128, activation='relu')(x)\n",
        "predictions = Dense(1, activation='sigmoid')(x)"
      ]
    },
    {
      "cell_type": "code",
      "execution_count": null,
      "metadata": {
        "id": "0s5rIxdMgR2c"
      },
      "outputs": [],
      "source": [
        "# Combine base model with new classification layers\n",
        "model = Model(inputs=base_model.input, outputs=predictions)"
      ]
    },
    {
      "cell_type": "code",
      "execution_count": null,
      "metadata": {
        "id": "TB2n4bbOgUKi"
      },
      "outputs": [],
      "source": [
        "# Freeze layers of the pre-trained model\n",
        "for layer in base_model.layers:\n",
        "    layer.trainable = False"
      ]
    },
    {
      "cell_type": "code",
      "execution_count": null,
      "metadata": {
        "colab": {
          "base_uri": "https://localhost:8080/"
        },
        "id": "2o1vNhy_gWkd",
        "outputId": "83556498-8b54-4ab4-b3b4-dfdf6201be95"
      },
      "outputs": [
        {
          "name": "stderr",
          "output_type": "stream",
          "text": [
            "WARNING:absl:`lr` is deprecated in Keras optimizer, please use `learning_rate` or use the legacy optimizer, e.g.,tf.keras.optimizers.legacy.Adam.\n"
          ]
        }
      ],
      "source": [
        "# Compile the model\n",
        "model.compile(optimizer=Adam(lr=0.001), loss='binary_crossentropy', metrics=['accuracy'])"
      ]
    },
    {
      "cell_type": "code",
      "execution_count": null,
      "metadata": {
        "colab": {
          "base_uri": "https://localhost:8080/"
        },
        "id": "z2uHNEusgZKX",
        "outputId": "33f954b3-d710-462b-fd0c-59ed36de8cdf"
      },
      "outputs": [
        {
          "name": "stdout",
          "output_type": "stream",
          "text": [
            "Epoch 1/10\n",
            "38/38 [==============================] - 1098s 29s/step - loss: 0.1902 - accuracy: 0.9518 - val_loss: 0.0690 - val_accuracy: 0.9744\n",
            "Epoch 2/10\n",
            "38/38 [==============================] - 1081s 29s/step - loss: 0.0750 - accuracy: 0.9800 - val_loss: 0.0597 - val_accuracy: 0.9858\n",
            "Epoch 3/10\n",
            "38/38 [==============================] - 1073s 28s/step - loss: 0.0703 - accuracy: 0.9834 - val_loss: 0.0464 - val_accuracy: 0.9886\n",
            "Epoch 4/10\n",
            "38/38 [==============================] - 1069s 28s/step - loss: 0.0625 - accuracy: 0.9842 - val_loss: 0.0510 - val_accuracy: 0.9858\n",
            "Epoch 5/10\n",
            "38/38 [==============================] - 1070s 28s/step - loss: 0.0587 - accuracy: 0.9817 - val_loss: 0.0479 - val_accuracy: 0.9858\n",
            "Epoch 6/10\n",
            "38/38 [==============================] - 1047s 28s/step - loss: 0.0527 - accuracy: 0.9850 - val_loss: 0.0308 - val_accuracy: 0.9943\n",
            "Epoch 7/10\n",
            "38/38 [==============================] - 1047s 28s/step - loss: 0.0483 - accuracy: 0.9875 - val_loss: 0.0429 - val_accuracy: 0.9915\n",
            "Epoch 8/10\n",
            "38/38 [==============================] - 1076s 28s/step - loss: 0.0422 - accuracy: 0.9875 - val_loss: 0.0420 - val_accuracy: 0.9830\n",
            "Epoch 9/10\n",
            "38/38 [==============================] - 1088s 29s/step - loss: 0.0417 - accuracy: 0.9900 - val_loss: 0.0407 - val_accuracy: 0.9915\n",
            "Epoch 10/10\n",
            "38/38 [==============================] - 1081s 29s/step - loss: 0.0356 - accuracy: 0.9892 - val_loss: 0.0515 - val_accuracy: 0.9830\n"
          ]
        }
      ],
      "source": [
        "# Train the model\n",
        "history = model.fit(\n",
        "    train_generator,\n",
        "    steps_per_epoch=train_generator.samples // batch_size,\n",
        "    epochs=10,\n",
        "    validation_data=validation_generator,\n",
        "    validation_steps=validation_generator.samples // batch_size\n",
        ")"
      ]
    },
    {
      "cell_type": "code",
      "execution_count": null,
      "metadata": {
        "id": "5apUjZ2TgcS-"
      },
      "outputs": [],
      "source": [
        "from tensorflow.keras.preprocessing import image\n",
        "# Function to preprocess uploaded image,\n",
        "def preprocess_image(image_path):\n",
        "    img = image.load_img(image_path, target_size=(224, 224))\n",
        "    img_array = image.img_to_array(img)\n",
        "    img_array = np.expand_dims(img_array, axis=0)\n",
        "    return img_array"
      ]
    },
    {
      "cell_type": "code",
      "execution_count": null,
      "metadata": {
        "colab": {
          "base_uri": "https://localhost:8080/"
        },
        "id": "OtIy54drg-f6",
        "outputId": "c818d475-5af3-4194-a3eb-dfd7f4b2be47"
      },
      "outputs": [
        {
          "name": "stdout",
          "output_type": "stream",
          "text": [
            "1/1 [==============================] - 1s 805ms/step\n",
            "The uploaded image is predicted as NOT SPAM.\n"
          ]
        }
      ],
      "source": [
        "import numpy as np\n",
        "# Function to predict whether the image contains spam or not\n",
        "def predict_spam(image_path):\n",
        "    processed_img = preprocess_image(image_path)\n",
        "    prediction = model.predict(processed_img)\n",
        "    return prediction[0][0]  # Return the prediction value (probability)\n",
        "\n",
        "# Provide the path to the uploaded image for prediction\n",
        "uploaded_image_path = '/content/drive/MyDrive/New folder (1)/dredze/personal_image_spam/000001c723a9$15785000$0100007f@localhost_image90.jpg'\n",
        "\n",
        "# Predict whether the uploaded image contains spam\n",
        "prediction_result = predict_spam(uploaded_image_path)\n",
        "\n",
        "# Threshold for considering if it's spam or not (adjust as needed)\n",
        "spam_threshold = 0.5\n",
        "\n",
        "if prediction_result >= spam_threshold:\n",
        "    print(\"The uploaded image is predicted as SPAM.\")\n",
        "else:\n",
        "    print(\"The uploaded image is predicted as NOT SPAM.\")\n"
      ]
    },
    {
      "cell_type": "code",
      "execution_count": null,
      "metadata": {
        "id": "-y9ut8bNhUBV"
      },
      "outputs": [],
      "source": []
    },
    {
      "cell_type": "code",
      "execution_count": null,
      "metadata": {
        "id": "v-LunzZyhUc4"
      },
      "outputs": [],
      "source": []
    },
    {
      "cell_type": "code",
      "execution_count": null,
      "metadata": {
        "id": "XTwaauNyhVYi"
      },
      "outputs": [],
      "source": []
    },
    {
      "cell_type": "code",
      "execution_count": null,
      "metadata": {
        "id": "wbGlweoehWRE"
      },
      "outputs": [],
      "source": []
    },
    {
      "cell_type": "markdown",
      "metadata": {
        "id": "aFkvQ29fhW8r"
      },
      "source": [
        "# **pretrained models**"
      ]
    },
    {
      "cell_type": "code",
      "execution_count": 18,
      "metadata": {
        "id": "pwjtw3b-hduh"
      },
      "outputs": [],
      "source": [
        "from tensorflow.keras.applications import VGG16, VGG19, InceptionV3, ResNet50, MobileNetV2, DenseNet121\n",
        "from tensorflow.keras.layers import Dense, GlobalAveragePooling2D\n",
        "from tensorflow.keras.models import Model\n",
        "from tensorflow.keras.optimizers import Adam\n",
        "from tensorflow.keras.preprocessing.image import ImageDataGenerator"
      ]
    },
    {
      "cell_type": "code",
      "execution_count": 19,
      "metadata": {
        "id": "gQQ0Rx7eiBQT"
      },
      "outputs": [],
      "source": [
        "import tensorflow as tf"
      ]
    },
    {
      "cell_type": "code",
      "execution_count": 20,
      "metadata": {
        "colab": {
          "base_uri": "https://localhost:8080/"
        },
        "id": "BH0eQykBiEC0",
        "outputId": "60a89fd2-cc41-42cf-abaf-ad168c0cb3bd"
      },
      "outputs": [
        {
          "output_type": "stream",
          "name": "stdout",
          "text": [
            "Found 1235 images belonging to 2 classes.\n",
            "Found 359 images belonging to 2 classes.\n"
          ]
        }
      ],
      "source": [
        "def create_model(base_model, img_size=(224, 224), num_classes=1):\n",
        "    # Add new classification layers\n",
        "    x = base_model.output\n",
        "    x = GlobalAveragePooling2D()(x)\n",
        "    x = Dense(128, activation='relu')(x)\n",
        "    predictions = Dense(num_classes, activation='sigmoid')(x)\n",
        "\n",
        "    # Combine base model with new classification layers\n",
        "    model = Model(inputs=base_model.input, outputs=predictions)\n",
        "\n",
        "    # Freeze layers of the pre-trained model\n",
        "    for layer in base_model.layers:\n",
        "        layer.trainable = False\n",
        "\n",
        "    # Compile the model\n",
        "    model.compile(optimizer=Adam(lr=0.001), loss='binary_crossentropy', metrics=['accuracy'])\n",
        "\n",
        "    return model\n",
        "\n",
        "# Define a function to train the model\n",
        "def train_model(model, train_generator, validation_generator, epochs=10):\n",
        "    history = model.fit(\n",
        "        train_generator,\n",
        "        steps_per_epoch=train_generator.samples // batch_size,\n",
        "        epochs=epochs,\n",
        "        validation_data=validation_generator,\n",
        "        validation_steps=validation_generator.samples // batch_size\n",
        "    )\n",
        "    return history\n",
        "\n",
        "# Function to load a saved model\n",
        "def load_saved_model(model_path):\n",
        "    model = tf.keras.models.load_model(model_path)\n",
        "    return model\n",
        "\n",
        "# Example usage:\n",
        "\n",
        "# Define your dataset directory paths\n",
        "train_dir = '/content/drive/MyDrive/spam image datset/SPAM IMAGE dataset2/train'\n",
        "validation_dir = '/content/drive/MyDrive/spam image datset/SPAM IMAGE dataset2/val'\n",
        "\n",
        "# Define image size and batch size\n",
        "img_size = (224, 224)\n",
        "batch_size = 32\n",
        "\n",
        "# Data augmentation and preprocessing\n",
        "train_datagen = ImageDataGenerator(\n",
        "    rescale=1./255,\n",
        "    shear_range=0.2,\n",
        "    zoom_range=0.2,\n",
        "    horizontal_flip=True\n",
        ")\n",
        "\n",
        "train_generator = train_datagen.flow_from_directory(\n",
        "    train_dir,\n",
        "    target_size=img_size,\n",
        "    batch_size=batch_size,\n",
        "    class_mode='binary'\n",
        ")\n",
        "\n",
        "validation_datagen = ImageDataGenerator(rescale=1./255)\n",
        "\n",
        "validation_generator = validation_datagen.flow_from_directory(\n",
        "    validation_dir,\n",
        "    target_size=img_size,\n",
        "    batch_size=batch_size,\n",
        "    class_mode='binary'\n",
        ")"
      ]
    },
    {
      "cell_type": "code",
      "execution_count": 4,
      "metadata": {
        "colab": {
          "base_uri": "https://localhost:8080/"
        },
        "id": "v3t7gd2BiIvR",
        "outputId": "7ab6e840-7855-4e55-b4dd-b87b1102f321"
      },
      "outputs": [
        {
          "output_type": "stream",
          "name": "stdout",
          "text": [
            "Downloading data from https://storage.googleapis.com/tensorflow/keras-applications/vgg16/vgg16_weights_tf_dim_ordering_tf_kernels_notop.h5\n",
            "58889256/58889256 [==============================] - 0s 0us/step\n"
          ]
        },
        {
          "output_type": "stream",
          "name": "stderr",
          "text": [
            "WARNING:absl:`lr` is deprecated in Keras optimizer, please use `learning_rate` or use the legacy optimizer, e.g.,tf.keras.optimizers.legacy.Adam.\n"
          ]
        }
      ],
      "source": [
        "base_model_vgg16 = VGG16(weights='imagenet', include_top=False, input_shape=(224, 224, 3))\n",
        "model_vgg16 = create_model(base_model_vgg16)"
      ]
    },
    {
      "cell_type": "code",
      "execution_count": 5,
      "metadata": {
        "colab": {
          "base_uri": "https://localhost:8080/"
        },
        "id": "rMU_H1CEiL61",
        "outputId": "e9693233-fbd3-4f50-c8f3-68928fe68b4a"
      },
      "outputs": [
        {
          "output_type": "stream",
          "name": "stdout",
          "text": [
            "Epoch 1/10\n",
            "38/38 [==============================] - 307s 8s/step - loss: 0.1909 - accuracy: 0.9601 - val_loss: 0.0647 - val_accuracy: 0.9886\n",
            "Epoch 2/10\n",
            "38/38 [==============================] - 20s 534ms/step - loss: 0.0733 - accuracy: 0.9809 - val_loss: 0.0666 - val_accuracy: 0.9801\n",
            "Epoch 3/10\n",
            "38/38 [==============================] - 21s 554ms/step - loss: 0.0721 - accuracy: 0.9834 - val_loss: 0.0491 - val_accuracy: 0.9886\n",
            "Epoch 4/10\n",
            "38/38 [==============================] - 19s 507ms/step - loss: 0.0696 - accuracy: 0.9834 - val_loss: 0.0489 - val_accuracy: 0.9915\n",
            "Epoch 5/10\n",
            "38/38 [==============================] - 22s 588ms/step - loss: 0.0572 - accuracy: 0.9842 - val_loss: 0.0471 - val_accuracy: 0.9915\n",
            "Epoch 6/10\n",
            "38/38 [==============================] - 20s 517ms/step - loss: 0.0557 - accuracy: 0.9834 - val_loss: 0.0447 - val_accuracy: 0.9915\n",
            "Epoch 7/10\n",
            "38/38 [==============================] - 22s 565ms/step - loss: 0.0465 - accuracy: 0.9875 - val_loss: 0.0435 - val_accuracy: 0.9915\n",
            "Epoch 8/10\n",
            "38/38 [==============================] - 21s 546ms/step - loss: 0.0506 - accuracy: 0.9834 - val_loss: 0.0419 - val_accuracy: 0.9858\n",
            "Epoch 9/10\n",
            "38/38 [==============================] - 20s 512ms/step - loss: 0.0435 - accuracy: 0.9875 - val_loss: 0.0475 - val_accuracy: 0.9830\n",
            "Epoch 10/10\n",
            "38/38 [==============================] - 20s 517ms/step - loss: 0.0413 - accuracy: 0.9875 - val_loss: 0.0437 - val_accuracy: 0.9830\n"
          ]
        }
      ],
      "source": [
        "history_vgg16 = train_model(model_vgg16, train_generator, validation_generator)\n"
      ]
    },
    {
      "cell_type": "code",
      "execution_count": 7,
      "metadata": {
        "id": "-IFsvc37iOji",
        "colab": {
          "base_uri": "https://localhost:8080/"
        },
        "outputId": "de3aa294-ff19-4b05-8a1f-2c1e8bc5e847"
      },
      "outputs": [
        {
          "output_type": "stream",
          "name": "stdout",
          "text": [
            "Downloading data from https://storage.googleapis.com/tensorflow/keras-applications/vgg19/vgg19_weights_tf_dim_ordering_tf_kernels_notop.h5\n",
            "80134624/80134624 [==============================] - 0s 0us/step\n"
          ]
        },
        {
          "output_type": "stream",
          "name": "stderr",
          "text": [
            "WARNING:absl:`lr` is deprecated in Keras optimizer, please use `learning_rate` or use the legacy optimizer, e.g.,tf.keras.optimizers.legacy.Adam.\n"
          ]
        }
      ],
      "source": [
        "base_model_vgg19 = VGG19(weights='imagenet', include_top=False, input_shape=(224, 224, 3))\n",
        "model_vgg19 = create_model(base_model_vgg19)"
      ]
    },
    {
      "cell_type": "code",
      "execution_count": 8,
      "metadata": {
        "id": "8xbt4_rDiZkD",
        "colab": {
          "base_uri": "https://localhost:8080/"
        },
        "outputId": "60a3752c-fb8b-4514-ef4e-95af18840b28"
      },
      "outputs": [
        {
          "output_type": "stream",
          "name": "stdout",
          "text": [
            "Epoch 1/10\n",
            "38/38 [==============================] - 23s 539ms/step - loss: 0.2463 - accuracy: 0.9460 - val_loss: 0.0870 - val_accuracy: 0.9830\n",
            "Epoch 2/10\n",
            "38/38 [==============================] - 20s 532ms/step - loss: 0.0845 - accuracy: 0.9767 - val_loss: 0.0635 - val_accuracy: 0.9858\n",
            "Epoch 3/10\n",
            "38/38 [==============================] - 22s 568ms/step - loss: 0.0728 - accuracy: 0.9776 - val_loss: 0.0886 - val_accuracy: 0.9688\n",
            "Epoch 4/10\n",
            "38/38 [==============================] - 21s 546ms/step - loss: 0.0739 - accuracy: 0.9809 - val_loss: 0.0605 - val_accuracy: 0.9830\n",
            "Epoch 5/10\n",
            "38/38 [==============================] - 21s 562ms/step - loss: 0.0609 - accuracy: 0.9825 - val_loss: 0.0567 - val_accuracy: 0.9830\n",
            "Epoch 6/10\n",
            "38/38 [==============================] - 20s 536ms/step - loss: 0.0615 - accuracy: 0.9784 - val_loss: 0.0561 - val_accuracy: 0.9801\n",
            "Epoch 7/10\n",
            "38/38 [==============================] - 21s 553ms/step - loss: 0.0535 - accuracy: 0.9842 - val_loss: 0.0486 - val_accuracy: 0.9886\n",
            "Epoch 8/10\n",
            "38/38 [==============================] - 21s 550ms/step - loss: 0.0476 - accuracy: 0.9817 - val_loss: 0.0502 - val_accuracy: 0.9858\n",
            "Epoch 9/10\n",
            "38/38 [==============================] - 21s 541ms/step - loss: 0.0406 - accuracy: 0.9859 - val_loss: 0.0472 - val_accuracy: 0.9858\n",
            "Epoch 10/10\n",
            "38/38 [==============================] - 20s 529ms/step - loss: 0.0380 - accuracy: 0.9884 - val_loss: 0.0528 - val_accuracy: 0.9773\n"
          ]
        }
      ],
      "source": [
        "history_vgg19 = train_model(model_vgg19, train_generator, validation_generator)"
      ]
    },
    {
      "cell_type": "code",
      "execution_count": 10,
      "metadata": {
        "id": "n_mKTGCQiioE",
        "colab": {
          "base_uri": "https://localhost:8080/"
        },
        "outputId": "edc973e0-ef15-4797-831f-bf1ba147fe46"
      },
      "outputs": [
        {
          "output_type": "stream",
          "name": "stdout",
          "text": [
            "Downloading data from https://storage.googleapis.com/tensorflow/keras-applications/resnet/resnet50_weights_tf_dim_ordering_tf_kernels_notop.h5\n",
            "94765736/94765736 [==============================] - 0s 0us/step\n"
          ]
        },
        {
          "output_type": "stream",
          "name": "stderr",
          "text": [
            "WARNING:absl:`lr` is deprecated in Keras optimizer, please use `learning_rate` or use the legacy optimizer, e.g.,tf.keras.optimizers.legacy.Adam.\n"
          ]
        }
      ],
      "source": [
        "base_model_resnet50 = ResNet50(weights='imagenet', include_top=False, input_shape=(224, 224, 3))\n",
        "model_resnet50 = create_model(base_model_resnet50)"
      ]
    },
    {
      "cell_type": "code",
      "execution_count": 11,
      "metadata": {
        "id": "lutmyXySipJF",
        "colab": {
          "base_uri": "https://localhost:8080/"
        },
        "outputId": "4a9ca3b9-cc87-462d-f2b4-16af8f107034"
      },
      "outputs": [
        {
          "output_type": "stream",
          "name": "stdout",
          "text": [
            "Epoch 1/10\n",
            "38/38 [==============================] - 28s 544ms/step - loss: 0.5522 - accuracy: 0.7648 - val_loss: 0.4217 - val_accuracy: 0.8352\n",
            "Epoch 2/10\n",
            "38/38 [==============================] - 20s 512ms/step - loss: 0.3824 - accuracy: 0.8603 - val_loss: 0.3206 - val_accuracy: 0.8949\n",
            "Epoch 3/10\n",
            "38/38 [==============================] - 19s 501ms/step - loss: 0.2937 - accuracy: 0.9185 - val_loss: 0.2699 - val_accuracy: 0.9318\n",
            "Epoch 4/10\n",
            "38/38 [==============================] - 21s 553ms/step - loss: 0.2525 - accuracy: 0.9235 - val_loss: 0.2642 - val_accuracy: 0.9062\n",
            "Epoch 5/10\n",
            "38/38 [==============================] - 20s 513ms/step - loss: 0.2312 - accuracy: 0.9393 - val_loss: 0.2719 - val_accuracy: 0.8949\n",
            "Epoch 6/10\n",
            "38/38 [==============================] - 20s 511ms/step - loss: 0.2206 - accuracy: 0.9360 - val_loss: 0.2740 - val_accuracy: 0.8835\n",
            "Epoch 7/10\n",
            "38/38 [==============================] - 19s 505ms/step - loss: 0.1898 - accuracy: 0.9485 - val_loss: 0.2068 - val_accuracy: 0.9460\n",
            "Epoch 8/10\n",
            "38/38 [==============================] - 20s 540ms/step - loss: 0.2007 - accuracy: 0.9468 - val_loss: 0.1981 - val_accuracy: 0.9460\n",
            "Epoch 9/10\n",
            "38/38 [==============================] - 20s 510ms/step - loss: 0.2055 - accuracy: 0.9368 - val_loss: 0.1913 - val_accuracy: 0.9489\n",
            "Epoch 10/10\n",
            "38/38 [==============================] - 19s 501ms/step - loss: 0.1960 - accuracy: 0.9335 - val_loss: 0.2175 - val_accuracy: 0.9261\n"
          ]
        }
      ],
      "source": [
        "history_resnet50 = train_model(model_resnet50, train_generator, validation_generator)"
      ]
    },
    {
      "cell_type": "code",
      "execution_count": 13,
      "metadata": {
        "id": "QjbbW56DisF4",
        "colab": {
          "base_uri": "https://localhost:8080/"
        },
        "outputId": "d643d388-31d8-4376-f43c-8de7147a8baa"
      },
      "outputs": [
        {
          "output_type": "stream",
          "name": "stdout",
          "text": [
            "Downloading data from https://storage.googleapis.com/tensorflow/keras-applications/inception_v3/inception_v3_weights_tf_dim_ordering_tf_kernels_notop.h5\n",
            "87910968/87910968 [==============================] - 0s 0us/step\n"
          ]
        },
        {
          "output_type": "stream",
          "name": "stderr",
          "text": [
            "WARNING:absl:`lr` is deprecated in Keras optimizer, please use `learning_rate` or use the legacy optimizer, e.g.,tf.keras.optimizers.legacy.Adam.\n"
          ]
        }
      ],
      "source": [
        "base_model_inceptionv3 = InceptionV3(weights='imagenet', include_top=False, input_shape=(224, 224, 3))\n",
        "model_inceptionv3 = create_model(base_model_inceptionv3)"
      ]
    },
    {
      "cell_type": "code",
      "execution_count": 14,
      "metadata": {
        "id": "qALXL9Dgi2PV",
        "colab": {
          "base_uri": "https://localhost:8080/"
        },
        "outputId": "473e6546-c25c-47d7-fdb8-cd49b49c19a9"
      },
      "outputs": [
        {
          "output_type": "stream",
          "name": "stdout",
          "text": [
            "Epoch 1/10\n",
            "38/38 [==============================] - 30s 611ms/step - loss: 0.1341 - accuracy: 0.9568 - val_loss: 0.0936 - val_accuracy: 0.9716\n",
            "Epoch 2/10\n",
            "38/38 [==============================] - 19s 494ms/step - loss: 0.0300 - accuracy: 0.9917 - val_loss: 0.0746 - val_accuracy: 0.9744\n",
            "Epoch 3/10\n",
            "38/38 [==============================] - 19s 488ms/step - loss: 0.0246 - accuracy: 0.9917 - val_loss: 0.0834 - val_accuracy: 0.9773\n",
            "Epoch 4/10\n",
            "38/38 [==============================] - 20s 538ms/step - loss: 0.0174 - accuracy: 0.9942 - val_loss: 0.0771 - val_accuracy: 0.9801\n",
            "Epoch 5/10\n",
            "38/38 [==============================] - 18s 477ms/step - loss: 0.0116 - accuracy: 0.9967 - val_loss: 0.0843 - val_accuracy: 0.9773\n",
            "Epoch 6/10\n",
            "38/38 [==============================] - 20s 523ms/step - loss: 0.0107 - accuracy: 0.9958 - val_loss: 0.1029 - val_accuracy: 0.9801\n",
            "Epoch 7/10\n",
            "38/38 [==============================] - 18s 485ms/step - loss: 0.0091 - accuracy: 0.9975 - val_loss: 0.0853 - val_accuracy: 0.9744\n",
            "Epoch 8/10\n",
            "38/38 [==============================] - 19s 510ms/step - loss: 0.0127 - accuracy: 0.9967 - val_loss: 0.1190 - val_accuracy: 0.9744\n",
            "Epoch 9/10\n",
            "38/38 [==============================] - 19s 490ms/step - loss: 0.0133 - accuracy: 0.9950 - val_loss: 0.1304 - val_accuracy: 0.9744\n",
            "Epoch 10/10\n",
            "38/38 [==============================] - 20s 538ms/step - loss: 0.0083 - accuracy: 0.9975 - val_loss: 0.1044 - val_accuracy: 0.9801\n"
          ]
        }
      ],
      "source": [
        "history_inceptionv3 = train_model(model_inceptionv3, train_generator, validation_generator)"
      ]
    },
    {
      "cell_type": "code",
      "execution_count": 16,
      "metadata": {
        "id": "82bi-3kLi5XJ",
        "colab": {
          "base_uri": "https://localhost:8080/"
        },
        "outputId": "f05a4dee-b817-453f-b489-7845696e46ae"
      },
      "outputs": [
        {
          "output_type": "stream",
          "name": "stdout",
          "text": [
            "Downloading data from https://storage.googleapis.com/tensorflow/keras-applications/mobilenet_v2/mobilenet_v2_weights_tf_dim_ordering_tf_kernels_1.0_224_no_top.h5\n",
            "9406464/9406464 [==============================] - 0s 0us/step\n"
          ]
        },
        {
          "output_type": "stream",
          "name": "stderr",
          "text": [
            "WARNING:absl:`lr` is deprecated in Keras optimizer, please use `learning_rate` or use the legacy optimizer, e.g.,tf.keras.optimizers.legacy.Adam.\n"
          ]
        }
      ],
      "source": [
        "base_model_mobilenetv2 = MobileNetV2(weights='imagenet', include_top=False, input_shape=(224, 224, 3))\n",
        "model_mobilenetv2 = create_model(base_model_mobilenetv2)"
      ]
    },
    {
      "cell_type": "code",
      "execution_count": 17,
      "metadata": {
        "id": "0ZUQ8RmWjARC",
        "colab": {
          "base_uri": "https://localhost:8080/"
        },
        "outputId": "3e8b9fb7-e8f1-4854-c3ef-b21de2fc05d7"
      },
      "outputs": [
        {
          "output_type": "stream",
          "name": "stdout",
          "text": [
            "Epoch 1/10\n",
            "38/38 [==============================] - 25s 542ms/step - loss: 0.1282 - accuracy: 0.9634 - val_loss: 0.0654 - val_accuracy: 0.9801\n",
            "Epoch 2/10\n",
            "38/38 [==============================] - 18s 482ms/step - loss: 0.0396 - accuracy: 0.9892 - val_loss: 0.0470 - val_accuracy: 0.9886\n",
            "Epoch 3/10\n",
            "38/38 [==============================] - 18s 482ms/step - loss: 0.0234 - accuracy: 0.9910 - val_loss: 0.0396 - val_accuracy: 0.9886\n",
            "Epoch 4/10\n",
            "38/38 [==============================] - 20s 519ms/step - loss: 0.0182 - accuracy: 0.9950 - val_loss: 0.0376 - val_accuracy: 0.9886\n",
            "Epoch 5/10\n",
            "38/38 [==============================] - 18s 477ms/step - loss: 0.0101 - accuracy: 0.9975 - val_loss: 0.0496 - val_accuracy: 0.9858\n",
            "Epoch 6/10\n",
            "38/38 [==============================] - 18s 479ms/step - loss: 0.0084 - accuracy: 0.9992 - val_loss: 0.0369 - val_accuracy: 0.9915\n",
            "Epoch 7/10\n",
            "38/38 [==============================] - 18s 479ms/step - loss: 0.0071 - accuracy: 0.9983 - val_loss: 0.0384 - val_accuracy: 0.9886\n",
            "Epoch 8/10\n",
            "38/38 [==============================] - 18s 480ms/step - loss: 0.0042 - accuracy: 0.9992 - val_loss: 0.0362 - val_accuracy: 0.9915\n",
            "Epoch 9/10\n",
            "38/38 [==============================] - 18s 484ms/step - loss: 0.0035 - accuracy: 0.9992 - val_loss: 0.0178 - val_accuracy: 0.9943\n",
            "Epoch 10/10\n",
            "38/38 [==============================] - 20s 539ms/step - loss: 0.0028 - accuracy: 0.9992 - val_loss: 0.0308 - val_accuracy: 0.9915\n"
          ]
        }
      ],
      "source": [
        "history_mobilenetv2 = train_model(model_mobilenetv2, train_generator, validation_generator)"
      ]
    },
    {
      "cell_type": "code",
      "execution_count": 21,
      "metadata": {
        "id": "6g90-4PKjEds",
        "colab": {
          "base_uri": "https://localhost:8080/"
        },
        "outputId": "075d9352-54d0-4c99-9a50-0156a6a3c61d"
      },
      "outputs": [
        {
          "output_type": "stream",
          "name": "stdout",
          "text": [
            "Downloading data from https://storage.googleapis.com/tensorflow/keras-applications/densenet/densenet121_weights_tf_dim_ordering_tf_kernels_notop.h5\n",
            "29084464/29084464 [==============================] - 0s 0us/step\n"
          ]
        },
        {
          "output_type": "stream",
          "name": "stderr",
          "text": [
            "WARNING:absl:`lr` is deprecated in Keras optimizer, please use `learning_rate` or use the legacy optimizer, e.g.,tf.keras.optimizers.legacy.Adam.\n"
          ]
        }
      ],
      "source": [
        "base_model_densenet50 = DenseNet121(weights='imagenet', include_top=False, input_shape=(224, 224, 3))\n",
        "model_densenet50 = create_model(base_model_densenet50)"
      ]
    },
    {
      "cell_type": "code",
      "execution_count": 22,
      "metadata": {
        "id": "X7LrnL2jjJ_W",
        "colab": {
          "base_uri": "https://localhost:8080/"
        },
        "outputId": "efa79d1f-bfcc-46ae-aaca-e6ca133f8624"
      },
      "outputs": [
        {
          "output_type": "stream",
          "name": "stdout",
          "text": [
            "Epoch 1/10\n",
            "38/38 [==============================] - 33s 598ms/step - loss: 0.1213 - accuracy: 0.9518 - val_loss: 0.0621 - val_accuracy: 0.9830\n",
            "Epoch 2/10\n",
            "38/38 [==============================] - 20s 532ms/step - loss: 0.0303 - accuracy: 0.9909 - val_loss: 0.0526 - val_accuracy: 0.9830\n",
            "Epoch 3/10\n",
            "38/38 [==============================] - 20s 530ms/step - loss: 0.0178 - accuracy: 0.9958 - val_loss: 0.0752 - val_accuracy: 0.9801\n",
            "Epoch 4/10\n",
            "38/38 [==============================] - 19s 502ms/step - loss: 0.0188 - accuracy: 0.9917 - val_loss: 0.0569 - val_accuracy: 0.9801\n",
            "Epoch 5/10\n",
            "38/38 [==============================] - 20s 532ms/step - loss: 0.0135 - accuracy: 0.9967 - val_loss: 0.0550 - val_accuracy: 0.9801\n",
            "Epoch 6/10\n",
            "38/38 [==============================] - 19s 496ms/step - loss: 0.0100 - accuracy: 0.9983 - val_loss: 0.0567 - val_accuracy: 0.9801\n",
            "Epoch 7/10\n",
            "38/38 [==============================] - 19s 495ms/step - loss: 0.0076 - accuracy: 0.9983 - val_loss: 0.0521 - val_accuracy: 0.9801\n",
            "Epoch 8/10\n",
            "38/38 [==============================] - 20s 538ms/step - loss: 0.0086 - accuracy: 0.9967 - val_loss: 0.0527 - val_accuracy: 0.9858\n",
            "Epoch 9/10\n",
            "38/38 [==============================] - 19s 506ms/step - loss: 0.0091 - accuracy: 0.9958 - val_loss: 0.0585 - val_accuracy: 0.9830\n",
            "Epoch 10/10\n",
            "38/38 [==============================] - 19s 512ms/step - loss: 0.0053 - accuracy: 0.9983 - val_loss: 0.0447 - val_accuracy: 0.9858\n"
          ]
        }
      ],
      "source": [
        "history_densenet50 = train_model(model_densenet50, train_generator, validation_generator)"
      ]
    },
    {
      "cell_type": "code",
      "execution_count": 62,
      "metadata": {
        "id": "VhMptJZRjMtC"
      },
      "outputs": [],
      "source": [
        "# model_vgg16.save('spam_image_filter_model_vgg16.h5')\n",
        "# model_vgg19.save('spam_image_filter_model_vgg19.h5')\n",
        "model_resnet50.save('spam_image_filter_model_resnet50.h5')\n",
        "# model_inceptionv3.save('spam_image_filter_model_inceptionv3.h5')\n",
        "# model_mobilenetv2.save('spam_image_filter_model_mobilenetv2.h5')\n",
        "# model_densenet50.save('spam_image_filter_model_densenet50.h5')\n"
      ]
    },
    {
      "cell_type": "code",
      "execution_count": 69,
      "metadata": {
        "id": "kSj4euWLjTBl",
        "colab": {
          "base_uri": "https://localhost:8080/"
        },
        "outputId": "0c0fa562-23ad-4aa6-b0e0-048fe90cd1bd"
      },
      "outputs": [
        {
          "output_type": "stream",
          "name": "stdout",
          "text": [
            "1/1 [==============================] - 1s 877ms/step\n",
            "The uploaded image is predicted as SPAM.\n"
          ]
        }
      ],
      "source": [
        "import tensorflow as tf\n",
        "from tensorflow.keras.preprocessing import image\n",
        "import numpy as np\n",
        "\n",
        "# Load the trained model\n",
        "model = tf.keras.models.load_model('spam_image_filter_model_resnet50.h5')\n",
        "\n",
        "\n",
        "\n",
        "# Function to preprocess uploaded image\n",
        "def preprocess_image(image_path):\n",
        "    img = image.load_img(image_path, target_size=(224, 224))\n",
        "    img_array = image.img_to_array(img)\n",
        "    img_array = np.expand_dims(img_array, axis=0)\n",
        "    return img_array\n",
        "\n",
        "# Function to predict whether the image contains spam or not\n",
        "\n",
        "def predict_spam(image_path):\n",
        "    processed_img = preprocess_image(image_path)\n",
        "    prediction = model.predict(processed_img)\n",
        "    return prediction[0][0]  # Return the prediction value (probability)\n",
        "\n",
        "# Provide the path to the uploaded image for prediction\n",
        "uploaded_image_path = '/content/drive/MyDrive/spam image datset/SPAM IMAGE dataset2/test/SpamImages/6G6Vx4rm6j.jpg'\n",
        "\n",
        "# Predict whether the uploaded image contains spam\n",
        "prediction_result = predict_spam(uploaded_image_path)\n",
        "\n",
        "# Threshold for considering if it's spam or not (adjust as needed)\n",
        "spam_threshold = 0.5\n",
        "\n",
        "if prediction_result >= spam_threshold:\n",
        "    print(\"The uploaded image is predicted as SPAM.\")\n",
        "else:\n",
        "    print(\"The uploaded image is predicted as NOT SPAM.\")"
      ]
    },
    {
      "cell_type": "code",
      "source": [],
      "metadata": {
        "id": "6ukcrGNYo58U"
      },
      "execution_count": null,
      "outputs": []
    }
  ],
  "metadata": {
    "accelerator": "GPU",
    "colab": {
      "provenance": [],
      "gpuType": "T4"
    },
    "kernelspec": {
      "display_name": "Python 3",
      "name": "python3"
    },
    "language_info": {
      "name": "python"
    }
  },
  "nbformat": 4,
  "nbformat_minor": 0
}